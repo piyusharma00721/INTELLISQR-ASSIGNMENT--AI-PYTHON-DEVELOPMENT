{
 "cells": [
  {
   "cell_type": "code",
   "execution_count": 1,
   "id": "39721612",
   "metadata": {},
   "outputs": [
    {
     "name": "stdout",
     "output_type": "stream",
     "text": [
      "Choose an option:\n",
      "1. Real-time audio input\n",
      "2. Upload an audio file\n",
      "Enter your choice (1 or 2): 1\n",
      "Say something...\n",
      "Processing...\n",
      "Text from audio:\n",
      " what is the use of iodine\n"
     ]
    }
   ],
   "source": [
    "import speech_recognition as sr\n",
    "\n",
    "def audio_to_text():\n",
    "    recognizer = sr.Recognizer()\n",
    "\n",
    "    print(\"Choose an option:\")\n",
    "    print(\"1. Real-time audio input\")\n",
    "    print(\"2. Upload an audio file\")\n",
    "    \n",
    "    choice = input(\"Enter your choice (1 or 2): \")\n",
    "\n",
    "    if choice == '1':\n",
    "        with sr.Microphone() as source:\n",
    "            print(\"Say something...\")\n",
    "            audio_data = recognizer.listen(source)\n",
    "            print(\"Processing...\")\n",
    "\n",
    "    elif choice == '2':\n",
    "        file_path = input(\"Enter the path of the audio file: \")\n",
    "        audio_data = sr.AudioFile(file_path)\n",
    "        with audio_data as source:\n",
    "            audio_data = recognizer.record(source)\n",
    "\n",
    "    else:\n",
    "        print(\"Invalid choice. Please enter either 1 or 2.\")\n",
    "        return\n",
    "\n",
    "    try:\n",
    "        text = recognizer.recognize_google(audio_data)\n",
    "        print(\"Text from audio:\\n\", text)\n",
    "\n",
    "    except sr.UnknownValueError:\n",
    "        print(\"Google Speech Recognition could not understand the audio.\")\n",
    "\n",
    "    except sr.RequestError as e:\n",
    "        print(f\"Could not request results from Google Speech Recognition service; {e}\")\n",
    "\n",
    "if __name__ == \"__main__\":\n",
    "    audio_to_text()\n"
   ]
  }
 ],
 "metadata": {
  "kernelspec": {
   "display_name": "Python 3 (ipykernel)",
   "language": "python",
   "name": "python3"
  },
  "language_info": {
   "codemirror_mode": {
    "name": "ipython",
    "version": 3
   },
   "file_extension": ".py",
   "mimetype": "text/x-python",
   "name": "python",
   "nbconvert_exporter": "python",
   "pygments_lexer": "ipython3",
   "version": "3.11.3"
  }
 },
 "nbformat": 4,
 "nbformat_minor": 5
}
